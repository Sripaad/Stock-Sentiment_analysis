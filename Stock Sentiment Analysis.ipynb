{
 "cells": [
  {
   "cell_type": "markdown",
   "metadata": {},
   "source": [
    "## Stock Sentiment Analysis using News Headlines"
   ]
  },
  {
   "cell_type": "code",
   "execution_count": 1,
   "metadata": {},
   "outputs": [],
   "source": [
    "import pandas as pd\n",
    "import pickle"
   ]
  },
  {
   "cell_type": "code",
   "execution_count": 2,
   "metadata": {},
   "outputs": [],
   "source": [
    "df=pd.read_csv('Data.csv', encoding = \"ISO-8859-1\")"
   ]
  },
  {
   "cell_type": "code",
   "execution_count": 3,
   "metadata": {},
   "outputs": [
    {
     "output_type": "execute_result",
     "data": {
      "text/plain": "         Date  Label                                               Top1  \\\n0  2000-01-03      0  A 'hindrance to operations': extracts from the...   \n1  2000-01-04      0                                          Scorecard   \n2  2000-01-05      0                  Coventry caught on counter by Flo   \n3  2000-01-06      1                      Pilgrim knows how to progress   \n4  2000-01-07      1                               Hitches and Horlocks   \n\n                                 Top2  \\\n0                           Scorecard   \n1                 The best lake scene   \n2  United's rivals on the road to Rio   \n3                 Thatcher facing ban   \n4      Beckham off but United survive   \n\n                                            Top3  \\\n0                Hughes' instant hit buoys Blues   \n1                  Leader: German sleaze inquiry   \n2  Thatcher issues defence before trial by video   \n3        McIlroy calls for Irish fighting spirit   \n4                        Breast cancer screening   \n\n                                            Top4  \\\n0       Jack gets his skates on at ice-cold Alex   \n1                                  Cheerio, boyo   \n2  Police help Smith lay down the law at Everton   \n3                Leicester bin stadium blueprint   \n4                                    Alan Parker   \n\n                                          Top5  \\\n0       Chaos as Maracana builds up for United   \n1                     The main recommendations   \n2  Tale of Trautmann bears two more retellings   \n3               United braced for Mexican wave   \n4      Guardian readers: are you all whingers?   \n\n                                                Top6  \\\n0  Depleted Leicester prevail as Elliott spoils E...   \n1                             Has Cubie killed fees?   \n2                                England on the rack   \n3  Auntie back in fashion, even if the dress look...   \n4                                   Hollywood Beyond   \n\n                                              Top7  \\\n0                 Hungry Spurs sense rich pickings   \n1                           Has Cubie killed fees?   \n2  Pakistan retaliate with call for video of Walsh   \n3                    Shoaib appeal goes to the top   \n4                               Ashes and diamonds   \n\n                                                Top8  ...  \\\n0                  Gunners so wide of an easy target  ...   \n1                             Has Cubie killed fees?  ...   \n2               Cullinan continues his Cape monopoly  ...   \n3  Hussain hurt by 'shambles' but lays blame on e...  ...   \n4                   Whingers - a formidable minority  ...   \n\n                                               Top16  \\\n0           Flintoff injury piles on woe for England   \n1                               On the critical list   \n2                        South Melbourne (Australia)   \n3  Putin admits Yeltsin quit to give him a head s...   \n4                             Most everywhere:  UDIs   \n\n                                               Top17  \\\n0  Hunters threaten Jospin with new battle of the...   \n1                          The timing of their lives   \n2                                    Necaxa (Mexico)   \n3         BBC worst hit as digital TV begins to bite   \n4                       Most wanted:  Chloe lunettes   \n\n                                            Top18  \\\n0             Kohl's successor drawn into scandal   \n1                                     Dear doctor   \n2                             Real Madrid (Spain)   \n3                     How much can you pay for...   \n4  Return of the cane 'completely off the agenda'   \n\n                                               Top19  \\\n0               The difference between men and women   \n1  Irish court halts IRA man's extradition to Nor...   \n2                          Raja Casablanca (Morocco)   \n3                                 Christmas glitches   \n4                   From Sleepy Hollow to Greeneland   \n\n                                               Top20  \\\n0                Sara Denver, nurse turned solicitor   \n1  Burundi peace initiative fades after rebels re...   \n2                               Corinthians (Brazil)   \n3  Upending a table, Chopping a line and Scoring ...   \n4              Blunkett outlines vision for over 11s   \n\n                                               Top21  \\\n0     Diana's landmine crusade put Tories in a panic   \n1               PE points the way forward to the ECB   \n2                                 Tony's pet project   \n3   Scientific evidence 'unreliable', defence claims   \n4  Embattled Dobson attacks 'play now, pay later'...   \n\n                                               Top22  \\\n0  Yeltsin's resignation caught opposition flat-f...   \n1  Campaigners keep up pressure on Nazi war crime...   \n2                            Al Nassr (Saudi Arabia)   \n3     Fusco wins judicial review in extradition case   \n4                                  Doom and the Dome   \n\n                             Top23  \\\n0                 Russian roulette   \n1                   Jane Ratcliffe   \n2                Ideal Holmes show   \n3    Rebels thwart Russian advance   \n4  What is the north-south divide?   \n\n                                               Top24  \\\n0                                           Sold out   \n1  Yet more things you wouldn't know without the ...   \n2               Pinochet leaves hospital after tests   \n3               Blair orders shake-up of failing NHS   \n4                          Aitken released from jail   \n\n                          Top25  \n0            Recovering a title  \n1  Millennium bug fails to bite  \n2                  Useful links  \n3   Lessons of law's hard heart  \n4                    Gone aloft  \n\n[5 rows x 27 columns]",
      "text/html": "<div>\n<style scoped>\n    .dataframe tbody tr th:only-of-type {\n        vertical-align: middle;\n    }\n\n    .dataframe tbody tr th {\n        vertical-align: top;\n    }\n\n    .dataframe thead th {\n        text-align: right;\n    }\n</style>\n<table border=\"1\" class=\"dataframe\">\n  <thead>\n    <tr style=\"text-align: right;\">\n      <th></th>\n      <th>Date</th>\n      <th>Label</th>\n      <th>Top1</th>\n      <th>Top2</th>\n      <th>Top3</th>\n      <th>Top4</th>\n      <th>Top5</th>\n      <th>Top6</th>\n      <th>Top7</th>\n      <th>Top8</th>\n      <th>...</th>\n      <th>Top16</th>\n      <th>Top17</th>\n      <th>Top18</th>\n      <th>Top19</th>\n      <th>Top20</th>\n      <th>Top21</th>\n      <th>Top22</th>\n      <th>Top23</th>\n      <th>Top24</th>\n      <th>Top25</th>\n    </tr>\n  </thead>\n  <tbody>\n    <tr>\n      <th>0</th>\n      <td>2000-01-03</td>\n      <td>0</td>\n      <td>A 'hindrance to operations': extracts from the...</td>\n      <td>Scorecard</td>\n      <td>Hughes' instant hit buoys Blues</td>\n      <td>Jack gets his skates on at ice-cold Alex</td>\n      <td>Chaos as Maracana builds up for United</td>\n      <td>Depleted Leicester prevail as Elliott spoils E...</td>\n      <td>Hungry Spurs sense rich pickings</td>\n      <td>Gunners so wide of an easy target</td>\n      <td>...</td>\n      <td>Flintoff injury piles on woe for England</td>\n      <td>Hunters threaten Jospin with new battle of the...</td>\n      <td>Kohl's successor drawn into scandal</td>\n      <td>The difference between men and women</td>\n      <td>Sara Denver, nurse turned solicitor</td>\n      <td>Diana's landmine crusade put Tories in a panic</td>\n      <td>Yeltsin's resignation caught opposition flat-f...</td>\n      <td>Russian roulette</td>\n      <td>Sold out</td>\n      <td>Recovering a title</td>\n    </tr>\n    <tr>\n      <th>1</th>\n      <td>2000-01-04</td>\n      <td>0</td>\n      <td>Scorecard</td>\n      <td>The best lake scene</td>\n      <td>Leader: German sleaze inquiry</td>\n      <td>Cheerio, boyo</td>\n      <td>The main recommendations</td>\n      <td>Has Cubie killed fees?</td>\n      <td>Has Cubie killed fees?</td>\n      <td>Has Cubie killed fees?</td>\n      <td>...</td>\n      <td>On the critical list</td>\n      <td>The timing of their lives</td>\n      <td>Dear doctor</td>\n      <td>Irish court halts IRA man's extradition to Nor...</td>\n      <td>Burundi peace initiative fades after rebels re...</td>\n      <td>PE points the way forward to the ECB</td>\n      <td>Campaigners keep up pressure on Nazi war crime...</td>\n      <td>Jane Ratcliffe</td>\n      <td>Yet more things you wouldn't know without the ...</td>\n      <td>Millennium bug fails to bite</td>\n    </tr>\n    <tr>\n      <th>2</th>\n      <td>2000-01-05</td>\n      <td>0</td>\n      <td>Coventry caught on counter by Flo</td>\n      <td>United's rivals on the road to Rio</td>\n      <td>Thatcher issues defence before trial by video</td>\n      <td>Police help Smith lay down the law at Everton</td>\n      <td>Tale of Trautmann bears two more retellings</td>\n      <td>England on the rack</td>\n      <td>Pakistan retaliate with call for video of Walsh</td>\n      <td>Cullinan continues his Cape monopoly</td>\n      <td>...</td>\n      <td>South Melbourne (Australia)</td>\n      <td>Necaxa (Mexico)</td>\n      <td>Real Madrid (Spain)</td>\n      <td>Raja Casablanca (Morocco)</td>\n      <td>Corinthians (Brazil)</td>\n      <td>Tony's pet project</td>\n      <td>Al Nassr (Saudi Arabia)</td>\n      <td>Ideal Holmes show</td>\n      <td>Pinochet leaves hospital after tests</td>\n      <td>Useful links</td>\n    </tr>\n    <tr>\n      <th>3</th>\n      <td>2000-01-06</td>\n      <td>1</td>\n      <td>Pilgrim knows how to progress</td>\n      <td>Thatcher facing ban</td>\n      <td>McIlroy calls for Irish fighting spirit</td>\n      <td>Leicester bin stadium blueprint</td>\n      <td>United braced for Mexican wave</td>\n      <td>Auntie back in fashion, even if the dress look...</td>\n      <td>Shoaib appeal goes to the top</td>\n      <td>Hussain hurt by 'shambles' but lays blame on e...</td>\n      <td>...</td>\n      <td>Putin admits Yeltsin quit to give him a head s...</td>\n      <td>BBC worst hit as digital TV begins to bite</td>\n      <td>How much can you pay for...</td>\n      <td>Christmas glitches</td>\n      <td>Upending a table, Chopping a line and Scoring ...</td>\n      <td>Scientific evidence 'unreliable', defence claims</td>\n      <td>Fusco wins judicial review in extradition case</td>\n      <td>Rebels thwart Russian advance</td>\n      <td>Blair orders shake-up of failing NHS</td>\n      <td>Lessons of law's hard heart</td>\n    </tr>\n    <tr>\n      <th>4</th>\n      <td>2000-01-07</td>\n      <td>1</td>\n      <td>Hitches and Horlocks</td>\n      <td>Beckham off but United survive</td>\n      <td>Breast cancer screening</td>\n      <td>Alan Parker</td>\n      <td>Guardian readers: are you all whingers?</td>\n      <td>Hollywood Beyond</td>\n      <td>Ashes and diamonds</td>\n      <td>Whingers - a formidable minority</td>\n      <td>...</td>\n      <td>Most everywhere:  UDIs</td>\n      <td>Most wanted:  Chloe lunettes</td>\n      <td>Return of the cane 'completely off the agenda'</td>\n      <td>From Sleepy Hollow to Greeneland</td>\n      <td>Blunkett outlines vision for over 11s</td>\n      <td>Embattled Dobson attacks 'play now, pay later'...</td>\n      <td>Doom and the Dome</td>\n      <td>What is the north-south divide?</td>\n      <td>Aitken released from jail</td>\n      <td>Gone aloft</td>\n    </tr>\n  </tbody>\n</table>\n<p>5 rows × 27 columns</p>\n</div>"
     },
     "metadata": {},
     "execution_count": 3
    }
   ],
   "source": [
    "df.head()"
   ]
  },
  {
   "cell_type": "code",
   "execution_count": 3,
   "metadata": {},
   "outputs": [],
   "source": [
    "train = df[df['Date'] < '20150101']\n",
    "test = df[df['Date'] > '20141231']"
   ]
  },
  {
   "cell_type": "code",
   "execution_count": 4,
   "metadata": {},
   "outputs": [
    {
     "output_type": "execute_result",
     "data": {
      "text/plain": "                                                   0  \\\n0  A  hindrance to operations   extracts from the...   \n1                                          Scorecard   \n2                  Coventry caught on counter by Flo   \n3                      Pilgrim knows how to progress   \n4                               Hitches and Horlocks   \n\n                                    1  \\\n0                           Scorecard   \n1                 The best lake scene   \n2  United s rivals on the road to Rio   \n3                 Thatcher facing ban   \n4      Beckham off but United survive   \n\n                                               2  \\\n0                Hughes  instant hit buoys Blues   \n1                  Leader  German sleaze inquiry   \n2  Thatcher issues defence before trial by video   \n3        McIlroy calls for Irish fighting spirit   \n4                        Breast cancer screening   \n\n                                               3  \\\n0       Jack gets his skates on at ice cold Alex   \n1                                  Cheerio  boyo   \n2  Police help Smith lay down the law at Everton   \n3                Leicester bin stadium blueprint   \n4                                    Alan Parker   \n\n                                             4  \\\n0       Chaos as Maracana builds up for United   \n1                     The main recommendations   \n2  Tale of Trautmann bears two more retellings   \n3               United braced for Mexican wave   \n4      Guardian readers  are you all whingers    \n\n                                                   5  \\\n0  Depleted Leicester prevail as Elliott spoils E...   \n1                             Has Cubie killed fees    \n2                                England on the rack   \n3  Auntie back in fashion  even if the dress look...   \n4                                   Hollywood Beyond   \n\n                                                 6  \\\n0                 Hungry Spurs sense rich pickings   \n1                           Has Cubie killed fees    \n2  Pakistan retaliate with call for video of Walsh   \n3                    Shoaib appeal goes to the top   \n4                               Ashes and diamonds   \n\n                                                   7  \\\n0                  Gunners so wide of an easy target   \n1                             Has Cubie killed fees    \n2               Cullinan continues his Cape monopoly   \n3  Hussain hurt by  shambles  but lays blame on e...   \n4                   Whingers   a formidable minority   \n\n                                                   8  \\\n0      Derby raise a glass to Strupar s debut double   \n1  Hopkins  furious  at Foster s lack of Hannibal...   \n2             McGrath puts India out of their misery   \n3                      England s decade of disasters   \n4                             Alan Parker   part two   \n\n                                          9  ...  \\\n0  Southgate strikes  Leeds pay the penalty  ...   \n1                    Has Cubie killed fees   ...   \n2            Blair Witch bandwagon rolls on  ...   \n3      Revenge is sweet for jubilant Cronje  ...   \n4                 Thuggery  Toxins and Ties  ...   \n\n                                                  15  \\\n0           Flintoff injury piles on woe for England   \n1                               On the critical list   \n2                        South Melbourne  Australia    \n3  Putin admits Yeltsin quit to give him a head s...   \n4                             Most everywhere   UDIs   \n\n                                                  16  \\\n0  Hunters threaten Jospin with new battle of the...   \n1                          The timing of their lives   \n2                                    Necaxa  Mexico    \n3         BBC worst hit as digital TV begins to bite   \n4                       Most wanted   Chloe lunettes   \n\n                                               17  \\\n0             Kohl s successor drawn into scandal   \n1                                     Dear doctor   \n2                             Real Madrid  Spain    \n3                     How much can you pay for      \n4  Return of the cane  completely off the agenda    \n\n                                                  18  \\\n0               The difference between men and women   \n1  Irish court halts IRA man s extradition to Nor...   \n2                          Raja Casablanca  Morocco    \n3                                 Christmas glitches   \n4                   From Sleepy Hollow to Greeneland   \n\n                                                  19  \\\n0                Sara Denver  nurse turned solicitor   \n1  Burundi peace initiative fades after rebels re...   \n2                               Corinthians  Brazil    \n3  Upending a table  Chopping a line and Scoring ...   \n4              Blunkett outlines vision for over   s   \n\n                                                  20  \\\n0     Diana s landmine crusade put Tories in a panic   \n1               PE points the way forward to the ECB   \n2                                 Tony s pet project   \n3   Scientific evidence  unreliable   defence claims   \n4  Embattled Dobson attacks  play now  pay later ...   \n\n                                                  21  \\\n0  Yeltsin s resignation caught opposition flat f...   \n1  Campaigners keep up pressure on Nazi war crime...   \n2                            Al Nassr  Saudi Arabia    \n3     Fusco wins judicial review in extradition case   \n4                                  Doom and the Dome   \n\n                                22  \\\n0                 Russian roulette   \n1                   Jane Ratcliffe   \n2                Ideal Holmes show   \n3    Rebels thwart Russian advance   \n4  What is the north south divide    \n\n                                                  23  \\\n0                                           Sold out   \n1  Yet more things you wouldn t know without the ...   \n2               Pinochet leaves hospital after tests   \n3               Blair orders shake up of failing NHS   \n4                          Aitken released from jail   \n\n                             24  \n0            Recovering a title  \n1  Millennium bug fails to bite  \n2                  Useful links  \n3   Lessons of law s hard heart  \n4                    Gone aloft  \n\n[5 rows x 25 columns]",
      "text/html": "<div>\n<style scoped>\n    .dataframe tbody tr th:only-of-type {\n        vertical-align: middle;\n    }\n\n    .dataframe tbody tr th {\n        vertical-align: top;\n    }\n\n    .dataframe thead th {\n        text-align: right;\n    }\n</style>\n<table border=\"1\" class=\"dataframe\">\n  <thead>\n    <tr style=\"text-align: right;\">\n      <th></th>\n      <th>0</th>\n      <th>1</th>\n      <th>2</th>\n      <th>3</th>\n      <th>4</th>\n      <th>5</th>\n      <th>6</th>\n      <th>7</th>\n      <th>8</th>\n      <th>9</th>\n      <th>...</th>\n      <th>15</th>\n      <th>16</th>\n      <th>17</th>\n      <th>18</th>\n      <th>19</th>\n      <th>20</th>\n      <th>21</th>\n      <th>22</th>\n      <th>23</th>\n      <th>24</th>\n    </tr>\n  </thead>\n  <tbody>\n    <tr>\n      <th>0</th>\n      <td>A  hindrance to operations   extracts from the...</td>\n      <td>Scorecard</td>\n      <td>Hughes  instant hit buoys Blues</td>\n      <td>Jack gets his skates on at ice cold Alex</td>\n      <td>Chaos as Maracana builds up for United</td>\n      <td>Depleted Leicester prevail as Elliott spoils E...</td>\n      <td>Hungry Spurs sense rich pickings</td>\n      <td>Gunners so wide of an easy target</td>\n      <td>Derby raise a glass to Strupar s debut double</td>\n      <td>Southgate strikes  Leeds pay the penalty</td>\n      <td>...</td>\n      <td>Flintoff injury piles on woe for England</td>\n      <td>Hunters threaten Jospin with new battle of the...</td>\n      <td>Kohl s successor drawn into scandal</td>\n      <td>The difference between men and women</td>\n      <td>Sara Denver  nurse turned solicitor</td>\n      <td>Diana s landmine crusade put Tories in a panic</td>\n      <td>Yeltsin s resignation caught opposition flat f...</td>\n      <td>Russian roulette</td>\n      <td>Sold out</td>\n      <td>Recovering a title</td>\n    </tr>\n    <tr>\n      <th>1</th>\n      <td>Scorecard</td>\n      <td>The best lake scene</td>\n      <td>Leader  German sleaze inquiry</td>\n      <td>Cheerio  boyo</td>\n      <td>The main recommendations</td>\n      <td>Has Cubie killed fees</td>\n      <td>Has Cubie killed fees</td>\n      <td>Has Cubie killed fees</td>\n      <td>Hopkins  furious  at Foster s lack of Hannibal...</td>\n      <td>Has Cubie killed fees</td>\n      <td>...</td>\n      <td>On the critical list</td>\n      <td>The timing of their lives</td>\n      <td>Dear doctor</td>\n      <td>Irish court halts IRA man s extradition to Nor...</td>\n      <td>Burundi peace initiative fades after rebels re...</td>\n      <td>PE points the way forward to the ECB</td>\n      <td>Campaigners keep up pressure on Nazi war crime...</td>\n      <td>Jane Ratcliffe</td>\n      <td>Yet more things you wouldn t know without the ...</td>\n      <td>Millennium bug fails to bite</td>\n    </tr>\n    <tr>\n      <th>2</th>\n      <td>Coventry caught on counter by Flo</td>\n      <td>United s rivals on the road to Rio</td>\n      <td>Thatcher issues defence before trial by video</td>\n      <td>Police help Smith lay down the law at Everton</td>\n      <td>Tale of Trautmann bears two more retellings</td>\n      <td>England on the rack</td>\n      <td>Pakistan retaliate with call for video of Walsh</td>\n      <td>Cullinan continues his Cape monopoly</td>\n      <td>McGrath puts India out of their misery</td>\n      <td>Blair Witch bandwagon rolls on</td>\n      <td>...</td>\n      <td>South Melbourne  Australia</td>\n      <td>Necaxa  Mexico</td>\n      <td>Real Madrid  Spain</td>\n      <td>Raja Casablanca  Morocco</td>\n      <td>Corinthians  Brazil</td>\n      <td>Tony s pet project</td>\n      <td>Al Nassr  Saudi Arabia</td>\n      <td>Ideal Holmes show</td>\n      <td>Pinochet leaves hospital after tests</td>\n      <td>Useful links</td>\n    </tr>\n    <tr>\n      <th>3</th>\n      <td>Pilgrim knows how to progress</td>\n      <td>Thatcher facing ban</td>\n      <td>McIlroy calls for Irish fighting spirit</td>\n      <td>Leicester bin stadium blueprint</td>\n      <td>United braced for Mexican wave</td>\n      <td>Auntie back in fashion  even if the dress look...</td>\n      <td>Shoaib appeal goes to the top</td>\n      <td>Hussain hurt by  shambles  but lays blame on e...</td>\n      <td>England s decade of disasters</td>\n      <td>Revenge is sweet for jubilant Cronje</td>\n      <td>...</td>\n      <td>Putin admits Yeltsin quit to give him a head s...</td>\n      <td>BBC worst hit as digital TV begins to bite</td>\n      <td>How much can you pay for</td>\n      <td>Christmas glitches</td>\n      <td>Upending a table  Chopping a line and Scoring ...</td>\n      <td>Scientific evidence  unreliable   defence claims</td>\n      <td>Fusco wins judicial review in extradition case</td>\n      <td>Rebels thwart Russian advance</td>\n      <td>Blair orders shake up of failing NHS</td>\n      <td>Lessons of law s hard heart</td>\n    </tr>\n    <tr>\n      <th>4</th>\n      <td>Hitches and Horlocks</td>\n      <td>Beckham off but United survive</td>\n      <td>Breast cancer screening</td>\n      <td>Alan Parker</td>\n      <td>Guardian readers  are you all whingers</td>\n      <td>Hollywood Beyond</td>\n      <td>Ashes and diamonds</td>\n      <td>Whingers   a formidable minority</td>\n      <td>Alan Parker   part two</td>\n      <td>Thuggery  Toxins and Ties</td>\n      <td>...</td>\n      <td>Most everywhere   UDIs</td>\n      <td>Most wanted   Chloe lunettes</td>\n      <td>Return of the cane  completely off the agenda</td>\n      <td>From Sleepy Hollow to Greeneland</td>\n      <td>Blunkett outlines vision for over   s</td>\n      <td>Embattled Dobson attacks  play now  pay later ...</td>\n      <td>Doom and the Dome</td>\n      <td>What is the north south divide</td>\n      <td>Aitken released from jail</td>\n      <td>Gone aloft</td>\n    </tr>\n  </tbody>\n</table>\n<p>5 rows × 25 columns</p>\n</div>"
     },
     "metadata": {},
     "execution_count": 4
    }
   ],
   "source": [
    "# Removing punctuations\n",
    "data=train.iloc[:,2:27]\n",
    "data.replace(\"[^a-zA-Z]\",\" \",regex=True, inplace=True)\n",
    "\n",
    "# Renaming column names for ease of access\n",
    "list1= [i for i in range(25)]\n",
    "new_Index=[str(i) for i in list1]\n",
    "data.columns= new_Index\n",
    "data.head(5)\n",
    "\n"
   ]
  },
  {
   "cell_type": "code",
   "execution_count": 5,
   "metadata": {},
   "outputs": [
    {
     "output_type": "execute_result",
     "data": {
      "text/plain": "                                                   0          1  \\\n0  a  hindrance to operations   extracts from the...  scorecard   \n\n                                 2                                         3  \\\n0  hughes  instant hit buoys blues  jack gets his skates on at ice cold alex   \n\n                                        4  \\\n0  chaos as maracana builds up for united   \n\n                                                   5  \\\n0  depleted leicester prevail as elliott spoils e...   \n\n                                  6                                  7  \\\n0  hungry spurs sense rich pickings  gunners so wide of an easy target   \n\n                                               8  \\\n0  derby raise a glass to strupar s debut double   \n\n                                          9  ...  \\\n0  southgate strikes  leeds pay the penalty  ...   \n\n                                         15  \\\n0  flintoff injury piles on woe for england   \n\n                                                  16  \\\n0  hunters threaten jospin with new battle of the...   \n\n                                    17                                    18  \\\n0  kohl s successor drawn into scandal  the difference between men and women   \n\n                                    19  \\\n0  sara denver  nurse turned solicitor   \n\n                                               20  \\\n0  diana s landmine crusade put tories in a panic   \n\n                                                  21                22  \\\n0  yeltsin s resignation caught opposition flat f...  russian roulette   \n\n         23                  24  \n0  sold out  recovering a title  \n\n[1 rows x 25 columns]",
      "text/html": "<div>\n<style scoped>\n    .dataframe tbody tr th:only-of-type {\n        vertical-align: middle;\n    }\n\n    .dataframe tbody tr th {\n        vertical-align: top;\n    }\n\n    .dataframe thead th {\n        text-align: right;\n    }\n</style>\n<table border=\"1\" class=\"dataframe\">\n  <thead>\n    <tr style=\"text-align: right;\">\n      <th></th>\n      <th>0</th>\n      <th>1</th>\n      <th>2</th>\n      <th>3</th>\n      <th>4</th>\n      <th>5</th>\n      <th>6</th>\n      <th>7</th>\n      <th>8</th>\n      <th>9</th>\n      <th>...</th>\n      <th>15</th>\n      <th>16</th>\n      <th>17</th>\n      <th>18</th>\n      <th>19</th>\n      <th>20</th>\n      <th>21</th>\n      <th>22</th>\n      <th>23</th>\n      <th>24</th>\n    </tr>\n  </thead>\n  <tbody>\n    <tr>\n      <th>0</th>\n      <td>a  hindrance to operations   extracts from the...</td>\n      <td>scorecard</td>\n      <td>hughes  instant hit buoys blues</td>\n      <td>jack gets his skates on at ice cold alex</td>\n      <td>chaos as maracana builds up for united</td>\n      <td>depleted leicester prevail as elliott spoils e...</td>\n      <td>hungry spurs sense rich pickings</td>\n      <td>gunners so wide of an easy target</td>\n      <td>derby raise a glass to strupar s debut double</td>\n      <td>southgate strikes  leeds pay the penalty</td>\n      <td>...</td>\n      <td>flintoff injury piles on woe for england</td>\n      <td>hunters threaten jospin with new battle of the...</td>\n      <td>kohl s successor drawn into scandal</td>\n      <td>the difference between men and women</td>\n      <td>sara denver  nurse turned solicitor</td>\n      <td>diana s landmine crusade put tories in a panic</td>\n      <td>yeltsin s resignation caught opposition flat f...</td>\n      <td>russian roulette</td>\n      <td>sold out</td>\n      <td>recovering a title</td>\n    </tr>\n  </tbody>\n</table>\n<p>1 rows × 25 columns</p>\n</div>"
     },
     "metadata": {},
     "execution_count": 5
    }
   ],
   "source": [
    "# Convertng headlines to lower case\n",
    "for index in new_Index:\n",
    "    data[index]=data[index].str.lower()\n",
    "data.head(1)"
   ]
  },
  {
   "cell_type": "code",
   "execution_count": 6,
   "metadata": {},
   "outputs": [
    {
     "output_type": "execute_result",
     "data": {
      "text/plain": "'scorecard the best lake scene leader  german sleaze inquiry cheerio  boyo the main recommendations has cubie killed fees  has cubie killed fees  has cubie killed fees  hopkins  furious  at foster s lack of hannibal appetite has cubie killed fees  a tale of two tails i say what i like and i like what i say elbows  eyes and nipples task force to assess risk of asteroid collision how i found myself at last on the critical list the timing of their lives dear doctor irish court halts ira man s extradition to northern ireland burundi peace initiative fades after rebels reject mandela as mediator pe points the way forward to the ecb campaigners keep up pressure on nazi war crimes suspect jane ratcliffe yet more things you wouldn t know without the movies millennium bug fails to bite'"
     },
     "metadata": {},
     "execution_count": 6
    }
   ],
   "source": [
    "' '.join(str(x) for x in data.iloc[1,0:25])"
   ]
  },
  {
   "cell_type": "code",
   "execution_count": 7,
   "metadata": {},
   "outputs": [],
   "source": [
    "headlines = []\n",
    "for row in range(0,len(data.index)):\n",
    "    headlines.append(' '.join(str(x) for x in data.iloc[row,0:25]))"
   ]
  },
  {
   "cell_type": "code",
   "execution_count": 9,
   "metadata": {},
   "outputs": [
    {
     "output_type": "execute_result",
     "data": {
      "text/plain": "'a  hindrance to operations   extracts from the leaked reports scorecard hughes  instant hit buoys blues jack gets his skates on at ice cold alex chaos as maracana builds up for united depleted leicester prevail as elliott spoils everton s party hungry spurs sense rich pickings gunners so wide of an easy target derby raise a glass to strupar s debut double southgate strikes  leeds pay the penalty hammers hand robson a youthful lesson saints party like it s      wear wolves have turned into lambs stump mike catches testy gough s taunt langer escapes to hit     flintoff injury piles on woe for england hunters threaten jospin with new battle of the somme kohl s successor drawn into scandal the difference between men and women sara denver  nurse turned solicitor diana s landmine crusade put tories in a panic yeltsin s resignation caught opposition flat footed russian roulette sold out recovering a title'"
     },
     "metadata": {},
     "execution_count": 9
    }
   ],
   "source": [
    "headlines[0]"
   ]
  },
  {
   "cell_type": "code",
   "execution_count": 8,
   "metadata": {},
   "outputs": [],
   "source": [
    "## CountVectorizer\n",
    "from sklearn.feature_extraction.text import CountVectorizer\n",
    "from sklearn.ensemble import RandomForestClassifier"
   ]
  },
  {
   "cell_type": "code",
   "execution_count": 9,
   "metadata": {},
   "outputs": [],
   "source": [
    "## implement BAG OF WORDS\n",
    "countvector=CountVectorizer(ngram_range=(2,2))\n",
    "traindataset=countvector.fit_transform(headlines)"
   ]
  },
  {
   "cell_type": "code",
   "execution_count": 10,
   "metadata": {},
   "outputs": [
    {
     "output_type": "execute_result",
     "data": {
      "text/plain": "RandomForestClassifier(criterion='entropy', n_estimators=200)"
     },
     "metadata": {},
     "execution_count": 10
    }
   ],
   "source": [
    "# implement RandomForest Classifier\n",
    "randomclassifier=RandomForestClassifier(n_estimators=200,criterion='entropy')\n",
    "randomclassifier.fit(traindataset,train['Label'])"
   ]
  },
  {
   "cell_type": "code",
   "execution_count": 11,
   "metadata": {},
   "outputs": [],
   "source": [
    "pickle.dump(randomclassifier, open('model.pkl', 'wb'))"
   ]
  },
  {
   "cell_type": "code",
   "execution_count": 12,
   "metadata": {},
   "outputs": [],
   "source": [
    "## Predict for the Test Dataset\n",
    "test_transform= []\n",
    "for row in range(0,len(test.index)):\n",
    "    test_transform.append(' '.join(str(x) for x in test.iloc[row,2:27]))\n",
    "test_dataset = countvector.transform(test_transform)\n",
    "predictions = randomclassifier.predict(test_dataset)"
   ]
  },
  {
   "cell_type": "code",
   "execution_count": null,
   "metadata": {},
   "outputs": [],
   "source": [
    "pickle.dump(randomclassifier, open('transform.pkl','wb'))"
   ]
  },
  {
   "cell_type": "code",
   "execution_count": 14,
   "metadata": {},
   "outputs": [
    {
     "output_type": "execute_result",
     "data": {
      "text/plain": "Date                                            2015-01-02\nLabel                                                    1\nTop1     Most cases of cancer are the result of sheer b...\nTop2     Iran dismissed United States efforts to fight ...\nTop3     Poll: One in 8 Germans would join anti-Muslim ...\nTop4     UK royal family's Prince Andrew named in US la...\nTop5     Some 40 asylum-seekers refused to leave the bu...\nTop6     Pakistani boat blows self up after India navy ...\nTop7     Sweden hit by third mosque arson attack in a week\nTop8            940 cars set alight during French New Year\nTop9     Salaries for top CEOs rose twice as fast as av...\nTop10    Norway violated equal-pay law, judge says: Jud...\nTop11    Imam wants radical recruiters of Muslim youth ...\nTop12    Saudi Arabia beheaded 83 people in 2014, the m...\nTop13    'A living hell' for slaves on remote South Kor...\nTop14    Worlds 400 richest get richer, adding $92bn in...\nTop15    Rental Car Stereos Infringe Copyright, Music R...\nTop16    Ukrainian minister threatens TV channel with c...\nTop17    Palestinian President Mahmoud Abbas has entere...\nTop18    Israeli security center publishes names of 50 ...\nTop19    The year 2014 was the deadliest year yet in Sy...\nTop20    A Secret underground complex built by the Nazi...\nTop21    Restrictions on Web Freedom a Major Global Iss...\nTop22    Austrian journalist Erich Mchel delivered a pr...\nTop23      Thousands of Ukraine nationalists march in Kiev\nTop24    Chinas New Years Resolution: No More Harvestin...\nTop25    Authorities Pull Plug on Russia's Last Politic...\nName: 3723, dtype: object"
     },
     "metadata": {},
     "execution_count": 14
    }
   ],
   "source": [
    "test.loc[3723,:]"
   ]
  },
  {
   "cell_type": "code",
   "execution_count": 15,
   "metadata": {},
   "outputs": [
    {
     "output_type": "execute_result",
     "data": {
      "text/plain": "array([1, 0, 0, 1, 1, 0, 0, 0, 0, 0, 1, 1, 1, 1, 0, 1, 0, 0, 1, 0, 1, 1,\n       1, 1, 0, 0, 1, 0, 1, 1, 1, 0, 0, 1, 0, 1, 1, 0, 0, 1, 0, 0, 1, 0,\n       1, 0, 0, 1, 0, 1, 0, 1, 0, 1, 0, 0, 0, 0, 1, 1, 0, 0, 1, 1, 0, 1,\n       1, 1, 0, 1, 1, 0, 0, 1, 0, 1, 1, 1, 0, 1, 0, 0, 1, 1, 0, 0, 1, 1,\n       0, 0, 0, 1, 1, 1, 1, 0, 1, 0, 0, 1, 0, 0, 1, 0, 1, 0, 0, 0, 0, 1,\n       1, 0, 0, 1, 1, 1, 0, 1, 1, 0, 0, 1, 0, 1, 1, 0, 0, 1, 0, 1, 1, 1,\n       1, 0, 1, 0, 1, 0, 0, 0, 0, 0, 1, 1, 0, 0, 0, 0, 0, 0, 0, 1, 0, 0,\n       1, 1, 1, 0, 0, 0, 0, 0, 0, 1, 1, 0, 0, 0, 1, 1, 0, 1, 0, 1, 1, 0,\n       1, 1, 0, 0, 1, 0, 0, 0, 1, 0, 1, 1, 0, 1, 1, 1, 1, 1, 1, 1, 0, 0,\n       1, 1, 1, 0, 0, 1, 1, 0, 0, 1, 0, 0, 1, 1, 0, 0, 1, 0, 1, 0, 0, 0,\n       1, 1, 1, 0, 1, 0, 1, 1, 0, 0, 1, 0, 0, 1, 0, 0, 0, 1, 0, 1, 1, 1,\n       0, 0, 1, 1, 1, 0, 0, 1, 0, 0, 1, 0, 1, 1, 1, 1, 1, 1, 1, 1, 1, 1,\n       1, 1, 1, 1, 1, 1, 1, 1, 0, 1, 1, 1, 0, 0, 1, 1, 1, 1, 1, 1, 1, 1,\n       1, 1, 0, 1, 1, 1, 1, 1, 1, 1, 0, 1, 1, 1, 1, 1, 1, 1, 1, 1, 1, 1,\n       1, 1, 1, 1, 1, 1, 1, 1, 1, 0, 1, 1, 1, 1, 1, 1, 1, 1, 1, 1, 1, 1,\n       1, 1, 1, 1, 0, 1, 0, 1, 0, 1, 1, 1, 1, 1, 1, 1, 0, 1, 1, 0, 1, 1,\n       1, 1, 1, 1, 1, 1, 1, 1, 0, 1, 1, 1, 1, 1, 1, 1, 1, 1, 1, 1, 1, 1,\n       1, 1, 1, 1])"
     },
     "metadata": {},
     "execution_count": 15
    }
   ],
   "source": [
    "predictions"
   ]
  },
  {
   "cell_type": "code",
   "execution_count": 16,
   "metadata": {},
   "outputs": [],
   "source": [
    "## Import library to check accuracy\n",
    "from sklearn.metrics import classification_report,confusion_matrix,accuracy_score"
   ]
  },
  {
   "cell_type": "code",
   "execution_count": 17,
   "metadata": {
    "tags": []
   },
   "outputs": [
    {
     "output_type": "stream",
     "name": "stdout",
     "text": "[[138  48]\n [  5 187]]\n0.8597883597883598\n              precision    recall  f1-score   support\n\n           0       0.97      0.74      0.84       186\n           1       0.80      0.97      0.88       192\n\n    accuracy                           0.86       378\n   macro avg       0.88      0.86      0.86       378\nweighted avg       0.88      0.86      0.86       378\n\n"
    }
   ],
   "source": [
    "matrix=confusion_matrix(test['Label'],predictions)\n",
    "print(matrix)\n",
    "score=accuracy_score(test['Label'],predictions)\n",
    "print(score)\n",
    "report=classification_report(test['Label'],predictions)\n",
    "print(report)"
   ]
  },
  {
   "cell_type": "code",
   "execution_count": 18,
   "metadata": {},
   "outputs": [],
   "source": [
    "## TfidfVectorizer\n",
    "from sklearn.feature_extraction.text import TfidfVectorizer\n",
    "from sklearn.ensemble import RandomForestClassifier"
   ]
  },
  {
   "cell_type": "code",
   "execution_count": 19,
   "metadata": {},
   "outputs": [],
   "source": [
    "## implement BAG OF WORDS\n",
    "tfidfvector=TfidfVectorizer(ngram_range=(2,2))\n",
    "traindataset=tfidfvector.fit_transform(headlines)"
   ]
  },
  {
   "cell_type": "code",
   "execution_count": 20,
   "metadata": {},
   "outputs": [
    {
     "output_type": "execute_result",
     "data": {
      "text/plain": "RandomForestClassifier(criterion='entropy', n_estimators=200)"
     },
     "metadata": {},
     "execution_count": 20
    }
   ],
   "source": [
    "# implement RandomForest Classifier\n",
    "randomclassifier=RandomForestClassifier(n_estimators=200,criterion='entropy')\n",
    "randomclassifier.fit(traindataset,train['Label'])"
   ]
  },
  {
   "cell_type": "code",
   "execution_count": 21,
   "metadata": {},
   "outputs": [],
   "source": [
    "## Predict for the Test Dataset\n",
    "test_transform= []\n",
    "for row in range(0,len(test.index)):\n",
    "    test_transform.append(' '.join(str(x) for x in test.iloc[row,2:27]))\n",
    "test_dataset = tfidfvector.transform(test_transform)\n",
    "predictions = randomclassifier.predict(test_dataset)"
   ]
  },
  {
   "cell_type": "code",
   "execution_count": 22,
   "metadata": {},
   "outputs": [
    {
     "output_type": "execute_result",
     "data": {
      "text/plain": "array([1, 0, 0, 1, 1, 0, 0, 0, 0, 0, 1, 1, 1, 1, 0, 1, 0, 0, 1, 0, 1, 1,\n       1, 1, 0, 0, 1, 0, 1, 1, 1, 0, 0, 1, 0, 1, 1, 0, 0, 1, 0, 0, 1, 0,\n       1, 0, 0, 1, 0, 1, 0, 1, 0, 1, 0, 0, 0, 0, 1, 1, 0, 0, 1, 1, 0, 1,\n       1, 1, 0, 1, 1, 0, 0, 1, 0, 1, 1, 1, 0, 1, 0, 0, 1, 1, 0, 0, 1, 1,\n       0, 0, 0, 1, 1, 1, 1, 0, 1, 0, 0, 1, 0, 0, 1, 0, 1, 0, 0, 0, 0, 1,\n       1, 0, 0, 1, 1, 1, 0, 1, 1, 0, 0, 1, 0, 1, 1, 0, 0, 1, 0, 1, 1, 1,\n       1, 0, 1, 0, 1, 0, 0, 0, 0, 0, 1, 1, 0, 0, 0, 0, 0, 0, 0, 1, 0, 0,\n       1, 1, 1, 0, 0, 0, 0, 0, 0, 1, 1, 0, 0, 0, 1, 1, 0, 1, 0, 1, 1, 0,\n       1, 1, 0, 0, 1, 0, 0, 0, 1, 0, 1, 1, 0, 1, 1, 1, 1, 1, 1, 1, 0, 0,\n       1, 1, 1, 0, 0, 1, 1, 0, 0, 1, 0, 0, 1, 1, 0, 0, 1, 0, 1, 0, 0, 0,\n       1, 1, 1, 0, 1, 0, 1, 1, 0, 0, 1, 0, 0, 1, 0, 0, 0, 1, 0, 1, 1, 1,\n       0, 0, 1, 1, 1, 0, 0, 1, 0, 0, 1, 0, 1, 1, 1, 1, 1, 1, 0, 1, 0, 0,\n       1, 0, 1, 1, 1, 1, 1, 1, 0, 1, 1, 1, 0, 0, 1, 1, 1, 1, 0, 0, 1, 1,\n       1, 0, 1, 0, 1, 1, 1, 1, 1, 1, 1, 1, 1, 1, 0, 1, 0, 0, 1, 1, 1, 1,\n       1, 1, 0, 1, 1, 1, 1, 1, 1, 0, 1, 1, 0, 0, 1, 1, 0, 1, 1, 0, 1, 1,\n       1, 1, 1, 0, 0, 1, 0, 1, 1, 1, 1, 0, 1, 1, 1, 0, 1, 1, 0, 0, 1, 0,\n       0, 1, 1, 1, 0, 1, 0, 1, 0, 1, 1, 0, 1, 1, 1, 1, 0, 0, 1, 1, 0, 1,\n       1, 1, 1, 1])"
     },
     "metadata": {},
     "execution_count": 22
    }
   ],
   "source": [
    "predictions"
   ]
  },
  {
   "cell_type": "code",
   "execution_count": 23,
   "metadata": {
    "tags": []
   },
   "outputs": [
    {
     "output_type": "stream",
     "name": "stdout",
     "text": "[[146  40]\n [ 21 171]]\n0.8386243386243386\n              precision    recall  f1-score   support\n\n           0       0.87      0.78      0.83       186\n           1       0.81      0.89      0.85       192\n\n    accuracy                           0.84       378\n   macro avg       0.84      0.84      0.84       378\nweighted avg       0.84      0.84      0.84       378\n\n"
    }
   ],
   "source": [
    "matrix=confusion_matrix(test['Label'],predictions)\n",
    "print(matrix)\n",
    "score=accuracy_score(test['Label'],predictions)\n",
    "print(score)\n",
    "report=classification_report(test['Label'],predictions)\n",
    "print(report)"
   ]
  },
  {
   "cell_type": "code",
   "execution_count": 24,
   "metadata": {},
   "outputs": [],
   "source": [
    "## implement Naive Bayes MultinomialNB\n",
    "from sklearn.naive_bayes import MultinomialNB"
   ]
  },
  {
   "cell_type": "code",
   "execution_count": 25,
   "metadata": {},
   "outputs": [
    {
     "output_type": "execute_result",
     "data": {
      "text/plain": "MultinomialNB()"
     },
     "metadata": {},
     "execution_count": 25
    }
   ],
   "source": [
    "naive = MultinomialNB()\n",
    "naive.fit(traindataset,train['Label'])"
   ]
  },
  {
   "cell_type": "code",
   "execution_count": 26,
   "metadata": {},
   "outputs": [],
   "source": [
    "## Predict for the Test Dataset\n",
    "test_transform= []\n",
    "for row in range(0,len(test.index)):\n",
    "    test_transform.append(' '.join(str(x) for x in test.iloc[row,2:27]))\n",
    "test_dataset = tfidfvector.transform(test_transform)\n",
    "predictions = naive.predict(test_dataset)"
   ]
  },
  {
   "cell_type": "code",
   "execution_count": 27,
   "metadata": {},
   "outputs": [
    {
     "output_type": "execute_result",
     "data": {
      "text/plain": "array([1, 0, 0, 1, 1, 0, 0, 0, 0, 0, 1, 1, 1, 1, 0, 1, 0, 0, 1, 0, 1, 1,\n       1, 1, 0, 0, 1, 0, 1, 1, 1, 0, 0, 1, 0, 1, 1, 0, 0, 1, 0, 0, 1, 0,\n       1, 0, 0, 1, 0, 1, 0, 1, 0, 1, 0, 0, 0, 0, 1, 1, 0, 0, 1, 1, 0, 1,\n       1, 1, 0, 1, 1, 0, 0, 1, 0, 1, 1, 1, 0, 1, 0, 0, 1, 1, 0, 0, 1, 1,\n       0, 0, 0, 1, 1, 1, 1, 0, 1, 0, 0, 1, 0, 0, 1, 0, 1, 0, 0, 0, 0, 1,\n       1, 0, 0, 1, 1, 1, 0, 1, 1, 0, 0, 1, 0, 1, 1, 0, 0, 1, 0, 1, 1, 1,\n       1, 0, 1, 0, 1, 0, 0, 0, 0, 0, 1, 1, 0, 0, 0, 0, 0, 0, 0, 1, 0, 0,\n       1, 1, 1, 0, 0, 0, 0, 0, 0, 1, 1, 0, 0, 0, 1, 1, 0, 1, 0, 1, 1, 0,\n       1, 1, 0, 0, 1, 0, 0, 0, 1, 0, 1, 1, 0, 1, 1, 1, 1, 1, 1, 1, 0, 0,\n       1, 1, 1, 0, 0, 1, 1, 0, 0, 1, 0, 0, 1, 1, 0, 0, 1, 0, 1, 0, 0, 0,\n       1, 1, 1, 0, 1, 0, 1, 1, 0, 0, 1, 0, 0, 1, 0, 0, 0, 1, 0, 1, 1, 1,\n       0, 0, 1, 1, 1, 0, 0, 1, 0, 0, 1, 1, 1, 1, 1, 1, 1, 1, 1, 1, 1, 1,\n       1, 1, 1, 1, 1, 1, 1, 1, 1, 1, 1, 1, 1, 1, 1, 1, 1, 1, 1, 1, 1, 1,\n       1, 1, 1, 1, 1, 1, 1, 1, 1, 1, 1, 1, 1, 1, 1, 1, 1, 1, 1, 1, 1, 1,\n       1, 1, 1, 1, 1, 1, 1, 1, 1, 1, 1, 1, 1, 1, 1, 1, 1, 1, 1, 1, 1, 1,\n       1, 1, 1, 1, 1, 1, 1, 1, 1, 1, 1, 1, 1, 1, 1, 1, 1, 1, 1, 1, 1, 1,\n       1, 1, 1, 1, 1, 1, 1, 1, 1, 1, 1, 1, 1, 1, 1, 1, 1, 1, 1, 1, 1, 1,\n       1, 1, 1, 1])"
     },
     "metadata": {},
     "execution_count": 27
    }
   ],
   "source": [
    "predictions"
   ]
  },
  {
   "cell_type": "code",
   "execution_count": 28,
   "metadata": {
    "tags": []
   },
   "outputs": [
    {
     "output_type": "stream",
     "name": "stdout",
     "text": "[[130  56]\n [  0 192]]\n0.8518518518518519\n              precision    recall  f1-score   support\n\n           0       1.00      0.70      0.82       186\n           1       0.77      1.00      0.87       192\n\n    accuracy                           0.85       378\n   macro avg       0.89      0.85      0.85       378\nweighted avg       0.89      0.85      0.85       378\n\n"
    }
   ],
   "source": [
    "matrix=confusion_matrix(test['Label'],predictions)\n",
    "print(matrix)\n",
    "score=accuracy_score(test['Label'],predictions)\n",
    "print(score)\n",
    "report=classification_report(test['Label'],predictions)\n",
    "print(report)"
   ]
  },
  {
   "cell_type": "code",
   "execution_count": 29,
   "metadata": {},
   "outputs": [],
   "source": [
    "## implement XGBoost\n",
    "from xgboost import XGBClassifier"
   ]
  },
  {
   "cell_type": "code",
   "execution_count": 30,
   "metadata": {},
   "outputs": [
    {
     "output_type": "execute_result",
     "data": {
      "text/plain": "XGBClassifier(base_score=0.5, booster='gblinear', colsample_bylevel=None,\n              colsample_bynode=None, colsample_bytree=None, gamma=None,\n              gpu_id=-1, importance_type='gain', interaction_constraints=None,\n              learning_rate=0.5, max_delta_step=None, max_depth=None,\n              min_child_weight=None, missing=nan, monotone_constraints=None,\n              n_estimators=100, n_jobs=0, num_parallel_tree=None,\n              random_state=0, reg_alpha=0, reg_lambda=0, scale_pos_weight=1,\n              subsample=None, tree_method=None, updater='coord_descent',\n              validate_parameters=1, verbosity=None)"
     },
     "metadata": {},
     "execution_count": 30
    }
   ],
   "source": [
    "classifier = XGBClassifier(booster='gblinear',updater='coord_descent')\n",
    "classifier.fit(traindataset,train['Label'])\n",
    "# used gbtree earlier gave an acc of 81%\n",
    "# using gblinear gives an acc of 84.3%\n",
    "# using dart gives an acc of 81%\n",
    "# using gblinear and objective as reg:tweedie gives an accuracy of 81%\n",
    "# using gblinear and updater as coord_descent gives us an accuracy of 84.9%\n",
    "# using gblinear and objective as reg:logistic gives an accuracy of 83.8%\n",
    "# using gblinear and objective as reg:squaredlogerror gives an accuracy of 83.3%\n",
    "# using gblinear and objective as reg:squarederror gives an accuracy of 82.2%\n",
    "# using gblinear and objective as binary:logistic gives an accuracy of 84.3%"
   ]
  },
  {
   "cell_type": "code",
   "execution_count": 31,
   "metadata": {},
   "outputs": [],
   "source": [
    "## Predict for the Test Dataset\n",
    "test_transform= []\n",
    "for row in range(0,len(test.index)):\n",
    "    test_transform.append(' '.join(str(x) for x in test.iloc[row,2:27]))\n",
    "test_dataset = tfidfvector.transform(test_transform)\n",
    "predictions = classifier.predict(test_dataset)"
   ]
  },
  {
   "cell_type": "code",
   "execution_count": 32,
   "metadata": {
    "tags": []
   },
   "outputs": [
    {
     "output_type": "stream",
     "name": "stdout",
     "text": "[[158  28]\n [ 29 163]]\n0.8492063492063492\n              precision    recall  f1-score   support\n\n           0       0.84      0.85      0.85       186\n           1       0.85      0.85      0.85       192\n\n    accuracy                           0.85       378\n   macro avg       0.85      0.85      0.85       378\nweighted avg       0.85      0.85      0.85       378\n\n"
    }
   ],
   "source": [
    "matrix=confusion_matrix(test['Label'],predictions)\n",
    "print(matrix)\n",
    "score=accuracy_score(test['Label'],predictions)\n",
    "print(score)\n",
    "report=classification_report(test['Label'],predictions)\n",
    "print(report)"
   ]
  },
  {
   "cell_type": "code",
   "execution_count": 33,
   "metadata": {},
   "outputs": [],
   "source": [
    "## implement Logistic Regression\n",
    "from sklearn.linear_model import LogisticRegression"
   ]
  },
  {
   "cell_type": "code",
   "execution_count": 34,
   "metadata": {},
   "outputs": [
    {
     "output_type": "execute_result",
     "data": {
      "text/plain": "LogisticRegression(random_state=0)"
     },
     "metadata": {},
     "execution_count": 34
    }
   ],
   "source": [
    "logReg = LogisticRegression(random_state=0)\n",
    "logReg.fit(traindataset,train['Label'])"
   ]
  },
  {
   "cell_type": "code",
   "execution_count": 35,
   "metadata": {},
   "outputs": [],
   "source": [
    "## Predict for the Test Dataset\n",
    "test_transform= []\n",
    "for row in range(0,len(test.index)):\n",
    "    test_transform.append(' '.join(str(x) for x in test.iloc[row,2:27]))\n",
    "test_dataset = tfidfvector.transform(test_transform)\n",
    "predictions = logReg.predict(test_dataset)"
   ]
  },
  {
   "cell_type": "code",
   "execution_count": 36,
   "metadata": {},
   "outputs": [
    {
     "output_type": "execute_result",
     "data": {
      "text/plain": "array([1, 0, 0, 1, 1, 0, 0, 0, 0, 0, 1, 1, 1, 1, 0, 1, 0, 0, 1, 0, 1, 1,\n       1, 1, 0, 0, 1, 0, 1, 1, 1, 0, 0, 1, 0, 1, 1, 0, 0, 1, 0, 0, 1, 0,\n       1, 0, 0, 1, 0, 1, 0, 1, 0, 1, 0, 0, 0, 0, 1, 1, 0, 0, 1, 1, 0, 1,\n       1, 1, 0, 1, 1, 0, 0, 1, 0, 1, 1, 1, 0, 1, 0, 0, 1, 1, 0, 0, 1, 1,\n       0, 0, 0, 1, 1, 1, 1, 0, 1, 0, 0, 1, 0, 0, 1, 0, 1, 0, 0, 0, 0, 1,\n       1, 0, 0, 1, 1, 1, 0, 1, 1, 0, 0, 1, 0, 1, 1, 0, 0, 1, 0, 1, 1, 1,\n       1, 0, 1, 0, 1, 0, 0, 0, 0, 0, 1, 1, 0, 0, 0, 0, 0, 0, 0, 1, 0, 0,\n       1, 1, 1, 0, 0, 0, 0, 0, 0, 1, 1, 0, 0, 0, 1, 1, 0, 1, 0, 1, 1, 0,\n       1, 1, 0, 0, 1, 0, 0, 0, 1, 0, 1, 1, 0, 1, 1, 1, 1, 1, 1, 1, 0, 0,\n       1, 1, 1, 0, 0, 1, 1, 0, 0, 1, 0, 0, 1, 1, 0, 0, 1, 0, 1, 0, 0, 0,\n       1, 1, 1, 0, 1, 0, 1, 1, 0, 0, 1, 0, 0, 1, 0, 0, 0, 1, 0, 1, 1, 1,\n       0, 0, 1, 1, 1, 0, 0, 1, 0, 0, 1, 1, 1, 1, 1, 1, 1, 1, 1, 1, 1, 1,\n       1, 1, 1, 1, 1, 1, 1, 1, 1, 1, 1, 1, 1, 1, 1, 1, 1, 1, 1, 1, 1, 1,\n       1, 1, 1, 1, 1, 1, 1, 1, 1, 1, 1, 1, 1, 1, 1, 1, 1, 1, 1, 1, 1, 1,\n       1, 1, 1, 1, 1, 1, 1, 1, 1, 1, 1, 1, 1, 1, 1, 1, 1, 1, 1, 1, 1, 1,\n       1, 1, 1, 1, 1, 1, 1, 1, 1, 1, 1, 1, 1, 1, 1, 1, 1, 1, 1, 0, 1, 1,\n       1, 1, 1, 1, 1, 1, 1, 1, 1, 1, 1, 1, 1, 1, 1, 1, 1, 1, 1, 1, 1, 1,\n       1, 1, 1, 1])"
     },
     "metadata": {},
     "execution_count": 36
    }
   ],
   "source": [
    "predictions"
   ]
  },
  {
   "cell_type": "code",
   "execution_count": 37,
   "metadata": {
    "tags": []
   },
   "outputs": [
    {
     "output_type": "stream",
     "name": "stdout",
     "text": "[[131  55]\n [  0 192]]\n0.8544973544973545\n              precision    recall  f1-score   support\n\n           0       1.00      0.70      0.83       186\n           1       0.78      1.00      0.87       192\n\n    accuracy                           0.85       378\n   macro avg       0.89      0.85      0.85       378\nweighted avg       0.89      0.85      0.85       378\n\n"
    }
   ],
   "source": [
    "matrix=confusion_matrix(test['Label'],predictions)\n",
    "print(matrix)\n",
    "score=accuracy_score(test['Label'],predictions)\n",
    "print(score)\n",
    "report=classification_report(test['Label'],predictions)\n",
    "print(report)"
   ]
  },
  {
   "cell_type": "code",
   "execution_count": 38,
   "metadata": {},
   "outputs": [],
   "source": [
    "## implement LinearSVC\n",
    "from sklearn.svm import LinearSVC"
   ]
  },
  {
   "cell_type": "code",
   "execution_count": 39,
   "metadata": {},
   "outputs": [
    {
     "output_type": "execute_result",
     "data": {
      "text/plain": "LinearSVC()"
     },
     "metadata": {},
     "execution_count": 39
    }
   ],
   "source": [
    "linearSVC = LinearSVC()\n",
    "linearSVC.fit(traindataset,train['Label'])"
   ]
  },
  {
   "cell_type": "code",
   "execution_count": 40,
   "metadata": {},
   "outputs": [],
   "source": [
    "## Predict for the Test Dataset\n",
    "test_transform= []\n",
    "for row in range(0,len(test.index)):\n",
    "    test_transform.append(' '.join(str(x) for x in test.iloc[row,2:27]))\n",
    "test_dataset = tfidfvector.transform(test_transform)\n",
    "predictions = linearSVC.predict(test_dataset)"
   ]
  },
  {
   "cell_type": "code",
   "execution_count": 41,
   "metadata": {},
   "outputs": [
    {
     "output_type": "execute_result",
     "data": {
      "text/plain": "array([1, 0, 0, 1, 1, 0, 0, 0, 0, 0, 1, 1, 1, 1, 0, 1, 0, 0, 1, 0, 1, 1,\n       1, 1, 0, 0, 1, 0, 1, 1, 1, 0, 0, 1, 0, 1, 1, 0, 0, 1, 0, 0, 1, 0,\n       1, 0, 0, 1, 0, 1, 0, 1, 0, 1, 0, 0, 0, 0, 1, 1, 0, 0, 1, 1, 0, 1,\n       1, 1, 0, 1, 1, 0, 0, 1, 0, 1, 1, 1, 0, 1, 0, 0, 1, 1, 0, 0, 1, 1,\n       0, 0, 0, 1, 1, 1, 1, 0, 1, 0, 0, 1, 0, 0, 1, 0, 1, 0, 0, 0, 0, 1,\n       1, 0, 0, 1, 1, 1, 0, 1, 1, 0, 0, 1, 0, 1, 1, 0, 0, 1, 0, 1, 1, 1,\n       1, 0, 1, 0, 1, 0, 0, 0, 0, 0, 1, 1, 0, 0, 0, 0, 0, 0, 0, 1, 0, 0,\n       1, 1, 1, 0, 0, 0, 0, 0, 0, 1, 1, 0, 0, 0, 1, 1, 0, 1, 0, 1, 1, 0,\n       1, 1, 0, 0, 1, 0, 0, 0, 1, 0, 1, 1, 0, 1, 1, 1, 1, 1, 1, 1, 0, 0,\n       1, 1, 1, 0, 0, 1, 1, 0, 0, 1, 0, 0, 1, 1, 0, 0, 1, 0, 1, 0, 0, 0,\n       1, 1, 1, 0, 1, 0, 1, 1, 0, 0, 1, 0, 0, 1, 0, 0, 0, 1, 0, 1, 1, 1,\n       0, 0, 1, 1, 1, 0, 0, 1, 0, 0, 1, 0, 1, 1, 1, 1, 1, 1, 0, 0, 0, 1,\n       1, 1, 0, 0, 1, 0, 1, 1, 1, 1, 1, 1, 0, 0, 1, 1, 1, 1, 1, 1, 0, 0,\n       1, 0, 1, 1, 1, 1, 1, 1, 1, 1, 0, 1, 1, 0, 0, 1, 1, 1, 1, 1, 1, 1,\n       1, 1, 1, 1, 1, 0, 0, 0, 1, 0, 1, 0, 1, 0, 1, 1, 0, 1, 1, 1, 1, 1,\n       1, 1, 1, 0, 0, 1, 0, 1, 1, 1, 1, 1, 1, 1, 1, 0, 1, 0, 1, 0, 1, 0,\n       1, 1, 1, 1, 0, 1, 1, 1, 1, 1, 1, 0, 1, 1, 1, 1, 0, 0, 1, 0, 1, 1,\n       1, 1, 1, 0])"
     },
     "metadata": {},
     "execution_count": 41
    }
   ],
   "source": [
    "predictions"
   ]
  },
  {
   "cell_type": "code",
   "execution_count": 42,
   "metadata": {
    "tags": []
   },
   "outputs": [
    {
     "output_type": "stream",
     "name": "stdout",
     "text": "[[146  40]\n [ 19 173]]\n0.843915343915344\n              precision    recall  f1-score   support\n\n           0       0.88      0.78      0.83       186\n           1       0.81      0.90      0.85       192\n\n    accuracy                           0.84       378\n   macro avg       0.85      0.84      0.84       378\nweighted avg       0.85      0.84      0.84       378\n\n"
    }
   ],
   "source": [
    "matrix=confusion_matrix(test['Label'],predictions)\n",
    "print(matrix)\n",
    "score=accuracy_score(test['Label'],predictions)\n",
    "print(score)\n",
    "report=classification_report(test['Label'],predictions)\n",
    "print(report)"
   ]
  },
  {
   "cell_type": "code",
   "execution_count": 43,
   "metadata": {},
   "outputs": [],
   "source": [
    "## implement Stochastic Gradient Descent Classifier \n",
    "from sklearn.linear_model import SGDClassifier"
   ]
  },
  {
   "cell_type": "code",
   "execution_count": 44,
   "metadata": {},
   "outputs": [
    {
     "output_type": "execute_result",
     "data": {
      "text/plain": "SGDClassifier()"
     },
     "metadata": {},
     "execution_count": 44
    }
   ],
   "source": [
    "sdgc = SGDClassifier()\n",
    "sdgc.fit(traindataset,train['Label'])"
   ]
  },
  {
   "cell_type": "code",
   "execution_count": 45,
   "metadata": {},
   "outputs": [],
   "source": [
    "## Predict for the Test Dataset\n",
    "test_transform= []\n",
    "for row in range(0,len(test.index)):\n",
    "    test_transform.append(' '.join(str(x) for x in test.iloc[row,2:27]))\n",
    "test_dataset = tfidfvector.transform(test_transform)\n",
    "predictions = linearSVC.predict(test_dataset)"
   ]
  },
  {
   "cell_type": "code",
   "execution_count": 46,
   "metadata": {},
   "outputs": [
    {
     "output_type": "execute_result",
     "data": {
      "text/plain": "array([1, 0, 0, 1, 1, 0, 0, 0, 0, 0, 1, 1, 1, 1, 0, 1, 0, 0, 1, 0, 1, 1,\n       1, 1, 0, 0, 1, 0, 1, 1, 1, 0, 0, 1, 0, 1, 1, 0, 0, 1, 0, 0, 1, 0,\n       1, 0, 0, 1, 0, 1, 0, 1, 0, 1, 0, 0, 0, 0, 1, 1, 0, 0, 1, 1, 0, 1,\n       1, 1, 0, 1, 1, 0, 0, 1, 0, 1, 1, 1, 0, 1, 0, 0, 1, 1, 0, 0, 1, 1,\n       0, 0, 0, 1, 1, 1, 1, 0, 1, 0, 0, 1, 0, 0, 1, 0, 1, 0, 0, 0, 0, 1,\n       1, 0, 0, 1, 1, 1, 0, 1, 1, 0, 0, 1, 0, 1, 1, 0, 0, 1, 0, 1, 1, 1,\n       1, 0, 1, 0, 1, 0, 0, 0, 0, 0, 1, 1, 0, 0, 0, 0, 0, 0, 0, 1, 0, 0,\n       1, 1, 1, 0, 0, 0, 0, 0, 0, 1, 1, 0, 0, 0, 1, 1, 0, 1, 0, 1, 1, 0,\n       1, 1, 0, 0, 1, 0, 0, 0, 1, 0, 1, 1, 0, 1, 1, 1, 1, 1, 1, 1, 0, 0,\n       1, 1, 1, 0, 0, 1, 1, 0, 0, 1, 0, 0, 1, 1, 0, 0, 1, 0, 1, 0, 0, 0,\n       1, 1, 1, 0, 1, 0, 1, 1, 0, 0, 1, 0, 0, 1, 0, 0, 0, 1, 0, 1, 1, 1,\n       0, 0, 1, 1, 1, 0, 0, 1, 0, 0, 1, 0, 1, 1, 1, 1, 1, 1, 0, 0, 0, 1,\n       1, 1, 0, 0, 1, 0, 1, 1, 1, 1, 1, 1, 0, 0, 1, 1, 1, 1, 1, 1, 0, 0,\n       1, 0, 1, 1, 1, 1, 1, 1, 1, 1, 0, 1, 1, 0, 0, 1, 1, 1, 1, 1, 1, 1,\n       1, 1, 1, 1, 1, 0, 0, 0, 1, 0, 1, 0, 1, 0, 1, 1, 0, 1, 1, 1, 1, 1,\n       1, 1, 1, 0, 0, 1, 0, 1, 1, 1, 1, 1, 1, 1, 1, 0, 1, 0, 1, 0, 1, 0,\n       1, 1, 1, 1, 0, 1, 1, 1, 1, 1, 1, 0, 1, 1, 1, 1, 0, 0, 1, 0, 1, 1,\n       1, 1, 1, 0])"
     },
     "metadata": {},
     "execution_count": 46
    }
   ],
   "source": [
    "predictions"
   ]
  },
  {
   "cell_type": "code",
   "execution_count": 47,
   "metadata": {
    "tags": []
   },
   "outputs": [
    {
     "output_type": "stream",
     "name": "stdout",
     "text": "[[146  40]\n [ 19 173]]\n0.843915343915344\n              precision    recall  f1-score   support\n\n           0       0.88      0.78      0.83       186\n           1       0.81      0.90      0.85       192\n\n    accuracy                           0.84       378\n   macro avg       0.85      0.84      0.84       378\nweighted avg       0.85      0.84      0.84       378\n\n"
    }
   ],
   "source": [
    "matrix=confusion_matrix(test['Label'],predictions)\n",
    "print(matrix)\n",
    "score=accuracy_score(test['Label'],predictions)\n",
    "print(score)\n",
    "report=classification_report(test['Label'],predictions)\n",
    "print(report)"
   ]
  }
 ],
 "metadata": {
  "kernelspec": {
   "display_name": "Python 3",
   "language": "python",
   "name": "python3"
  },
  "language_info": {
   "codemirror_mode": {
    "name": "ipython",
    "version": 3
   },
   "file_extension": ".py",
   "mimetype": "text/x-python",
   "name": "python",
   "nbconvert_exporter": "python",
   "pygments_lexer": "ipython3",
   "version": "3.8.2-final"
  }
 },
 "nbformat": 4,
 "nbformat_minor": 2
}